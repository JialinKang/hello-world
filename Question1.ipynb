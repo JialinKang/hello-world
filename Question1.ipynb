{
  "nbformat": 4,
  "nbformat_minor": 0,
  "metadata": {
    "colab": {
      "name": "Question1.ipynb",
      "provenance": [],
      "authorship_tag": "ABX9TyMbHB4n+lj8LYEz4Mjh8f2q",
      "include_colab_link": true
    },
    "kernelspec": {
      "name": "python3",
      "display_name": "Python 3"
    }
  },
  "cells": [
    {
      "cell_type": "markdown",
      "metadata": {
        "id": "view-in-github",
        "colab_type": "text"
      },
      "source": [
        "<a href=\"https://colab.research.google.com/github/JialinKang/hello-world/blob/master/Question1.ipynb\" target=\"_parent\"><img src=\"https://colab.research.google.com/assets/colab-badge.svg\" alt=\"Open In Colab\"/></a>"
      ]
    },
    {
      "cell_type": "markdown",
      "metadata": {
        "id": "QrySLNw86_Sj",
        "colab_type": "text"
      },
      "source": [
        "**Use Keras and Tensor Flow on colab to fit a prediction model for the mnist data with multiple hidden layers. The first has 128 nodes, the second 64 and the 3rd 32 then an output layer of size 10. Have 20% dropout for each hidden layer. Compare the test set accuracy to a model with only one hidden layer with 32 nodes and then an output layer of size 10. Have 20% dropout for the hidden layer.**"
      ]
    },
    {
      "cell_type": "code",
      "metadata": {
        "id": "kttOel3h64F5",
        "colab_type": "code",
        "colab": {}
      },
      "source": [
        "import numpy as np\n",
        "import matplotlib.pyplot as plt\n",
        "from keras.datasets import mnist\n",
        "from keras.models import Sequential\n",
        "from keras.layers.core import Dense, Dropout, Activation\n",
        "from keras.utils import np_utils\n",
        "from keras import layers"
      ],
      "execution_count": 0,
      "outputs": []
    },
    {
      "cell_type": "code",
      "metadata": {
        "id": "gYOmYPq97NhG",
        "colab_type": "code",
        "colab": {}
      },
      "source": [
        "# Retrieving the training and test data\n",
        "(X_train, y_train), (X_test, y_test) = mnist.load_data()"
      ],
      "execution_count": 0,
      "outputs": []
    },
    {
      "cell_type": "code",
      "metadata": {
        "id": "nEHfF0mA7RA0",
        "colab_type": "code",
        "colab": {
          "base_uri": "https://localhost:8080/",
          "height": 84
        },
        "outputId": "fa142eeb-0f7a-477e-8a14-222ad027d429"
      },
      "source": [
        "print('X_train shape:', X_train.shape)\n",
        "print('X_test shape:', X_test.shape)\n",
        "print('y_train shape:', y_train.shape)\n",
        "print('y_test shape:', y_test.shape)"
      ],
      "execution_count": 13,
      "outputs": [
        {
          "output_type": "stream",
          "text": [
            "X_train shape: (60000, 28, 28)\n",
            "X_test shape: (10000, 28, 28)\n",
            "y_train shape: (60000,)\n",
            "y_test shape: (10000,)\n"
          ],
          "name": "stdout"
        }
      ]
    },
    {
      "cell_type": "code",
      "metadata": {
        "id": "VKtWyY7p7Toi",
        "colab_type": "code",
        "colab": {
          "base_uri": "https://localhost:8080/",
          "height": 84
        },
        "outputId": "fbda597f-41a9-448f-eca3-313f2a35fa2f"
      },
      "source": [
        "X_train = X_train.reshape(60000, 784)\n",
        "X_test = X_test.reshape(10000, 784)\n",
        "X_train = X_train.astype('float32')\n",
        "X_test = X_test.astype('float32')\n",
        "X_train /= 255\n",
        "X_test /= 255\n",
        "print('Train the matrix shape', X_train.shape)\n",
        "print('Test the matrix shape', X_test.shape)\n",
        "\n",
        "from keras.utils.np_utils import to_categorical\n",
        "print(y_train.shape)\n",
        "y_train = to_categorical(y_train, 10)\n",
        "y_test = to_categorical(y_test, 10)\n",
        "print(y_train.shape)"
      ],
      "execution_count": 14,
      "outputs": [
        {
          "output_type": "stream",
          "text": [
            "Train the matrix shape (60000, 784)\n",
            "Test the matrix shape (10000, 784)\n",
            "(60000,)\n",
            "(60000, 10)\n"
          ],
          "name": "stdout"
        }
      ]
    },
    {
      "cell_type": "markdown",
      "metadata": {
        "id": "Ts7Ijn2a7lPP",
        "colab_type": "text"
      },
      "source": [
        "## model 1"
      ]
    },
    {
      "cell_type": "code",
      "metadata": {
        "id": "kKomgayK7YQ2",
        "colab_type": "code",
        "colab": {
          "base_uri": "https://localhost:8080/",
          "height": 521
        },
        "outputId": "1f213429-f79b-4b86-9201-c833395900e4"
      },
      "source": [
        "# define the neural network\n",
        "\n",
        "def build_model():\n",
        "  model=Sequential()\n",
        "  model.add(Dense(128, input_shape=(784,)))\n",
        "  model.add(Activation('relu'))\n",
        "  model.add(Dropout(0.2))\n",
        "  model.add(Dense(64))\n",
        "  model.add(Activation('relu'))\n",
        "  model.add(Dropout(0.2))\n",
        "  model.add(Dense(32))\n",
        "  model.add(Activation('relu'))\n",
        "  model.add(Dropout(0.2))\n",
        "  model.add(Dense(10))\n",
        "  model.add(Activation('softmax'))\n",
        "  return model\n",
        "\n",
        "model_1 = build_model()\n",
        "\n",
        "model_1.compile(optimizer='rmsprop',\n",
        "       loss='categorical_crossentropy',\n",
        "       metrics=['accuracy'])\n",
        "model_1.summary()"
      ],
      "execution_count": 23,
      "outputs": [
        {
          "output_type": "stream",
          "text": [
            "Model: \"sequential_6\"\n",
            "_________________________________________________________________\n",
            "Layer (type)                 Output Shape              Param #   \n",
            "=================================================================\n",
            "dense_17 (Dense)             (None, 128)               100480    \n",
            "_________________________________________________________________\n",
            "activation_17 (Activation)   (None, 128)               0         \n",
            "_________________________________________________________________\n",
            "dropout_12 (Dropout)         (None, 128)               0         \n",
            "_________________________________________________________________\n",
            "dense_18 (Dense)             (None, 64)                8256      \n",
            "_________________________________________________________________\n",
            "activation_18 (Activation)   (None, 64)                0         \n",
            "_________________________________________________________________\n",
            "dropout_13 (Dropout)         (None, 64)                0         \n",
            "_________________________________________________________________\n",
            "dense_19 (Dense)             (None, 32)                2080      \n",
            "_________________________________________________________________\n",
            "activation_19 (Activation)   (None, 32)                0         \n",
            "_________________________________________________________________\n",
            "dropout_14 (Dropout)         (None, 32)                0         \n",
            "_________________________________________________________________\n",
            "dense_20 (Dense)             (None, 10)                330       \n",
            "_________________________________________________________________\n",
            "activation_20 (Activation)   (None, 10)                0         \n",
            "=================================================================\n",
            "Total params: 111,146\n",
            "Trainable params: 111,146\n",
            "Non-trainable params: 0\n",
            "_________________________________________________________________\n"
          ],
          "name": "stdout"
        }
      ]
    },
    {
      "cell_type": "code",
      "metadata": {
        "id": "sNjhO6G07eAM",
        "colab_type": "code",
        "colab": {
          "base_uri": "https://localhost:8080/",
          "height": 386
        },
        "outputId": "8f30e5c8-ea57-41e9-a544-17fb1fd62f16"
      },
      "source": [
        "# training\n",
        "model_1.fit(X_train, y_train, batch_size=128, epochs=10, verbose=1,\n",
        "          validation_data=(X_test, y_test))"
      ],
      "execution_count": 16,
      "outputs": [
        {
          "output_type": "stream",
          "text": [
            "Train on 60000 samples, validate on 10000 samples\n",
            "Epoch 1/10\n",
            "60000/60000 [==============================] - 2s 36us/step - loss: 0.5623 - accuracy: 0.8302 - val_loss: 0.1837 - val_accuracy: 0.9460\n",
            "Epoch 2/10\n",
            "60000/60000 [==============================] - 2s 35us/step - loss: 0.2404 - accuracy: 0.9337 - val_loss: 0.1349 - val_accuracy: 0.9601\n",
            "Epoch 3/10\n",
            "60000/60000 [==============================] - 2s 35us/step - loss: 0.1819 - accuracy: 0.9498 - val_loss: 0.1152 - val_accuracy: 0.9657\n",
            "Epoch 4/10\n",
            "60000/60000 [==============================] - 2s 36us/step - loss: 0.1519 - accuracy: 0.9581 - val_loss: 0.1001 - val_accuracy: 0.9720\n",
            "Epoch 5/10\n",
            "60000/60000 [==============================] - 2s 35us/step - loss: 0.1332 - accuracy: 0.9639 - val_loss: 0.1004 - val_accuracy: 0.9722\n",
            "Epoch 6/10\n",
            "60000/60000 [==============================] - 2s 35us/step - loss: 0.1214 - accuracy: 0.9677 - val_loss: 0.0912 - val_accuracy: 0.9757\n",
            "Epoch 7/10\n",
            "60000/60000 [==============================] - 2s 35us/step - loss: 0.1109 - accuracy: 0.9699 - val_loss: 0.0909 - val_accuracy: 0.9749\n",
            "Epoch 8/10\n",
            "60000/60000 [==============================] - 2s 35us/step - loss: 0.1067 - accuracy: 0.9712 - val_loss: 0.0941 - val_accuracy: 0.9765\n",
            "Epoch 9/10\n",
            "60000/60000 [==============================] - 2s 35us/step - loss: 0.1005 - accuracy: 0.9736 - val_loss: 0.0906 - val_accuracy: 0.9757\n",
            "Epoch 10/10\n",
            "60000/60000 [==============================] - 2s 34us/step - loss: 0.0906 - accuracy: 0.9758 - val_loss: 0.0952 - val_accuracy: 0.9778\n"
          ],
          "name": "stdout"
        },
        {
          "output_type": "execute_result",
          "data": {
            "text/plain": [
              "<keras.callbacks.callbacks.History at 0x7fba0568fe48>"
            ]
          },
          "metadata": {
            "tags": []
          },
          "execution_count": 16
        }
      ]
    },
    {
      "cell_type": "markdown",
      "metadata": {
        "id": "cvh_mDjo7qrY",
        "colab_type": "text"
      },
      "source": [
        "## model 2"
      ]
    },
    {
      "cell_type": "code",
      "metadata": {
        "id": "KhNi-flA7pGB",
        "colab_type": "code",
        "colab": {}
      },
      "source": [
        "model_2=Sequential()\n",
        "model_2.add(Dense(32, input_shape=(784,)))\n",
        "model_2.add(Activation('relu'))\n",
        "model_2.add(Dropout(0.2))\n",
        "model_2.add(Dense(10))\n",
        "model_2.add(Activation('softmax'))"
      ],
      "execution_count": 0,
      "outputs": []
    },
    {
      "cell_type": "code",
      "metadata": {
        "id": "yFN3g5YR71Zi",
        "colab_type": "code",
        "colab": {
          "base_uri": "https://localhost:8080/",
          "height": 319
        },
        "outputId": "b6295367-3809-4916-ca3b-c4bdf346af6b"
      },
      "source": [
        "model_2.compile(optimizer='rmsprop',\n",
        "       loss='categorical_crossentropy',\n",
        "       metrics=['accuracy'])\n",
        "model_2.summary()"
      ],
      "execution_count": 22,
      "outputs": [
        {
          "output_type": "stream",
          "text": [
            "Model: \"sequential_4\"\n",
            "_________________________________________________________________\n",
            "Layer (type)                 Output Shape              Param #   \n",
            "=================================================================\n",
            "dense_11 (Dense)             (None, 32)                25120     \n",
            "_________________________________________________________________\n",
            "activation_11 (Activation)   (None, 32)                0         \n",
            "_________________________________________________________________\n",
            "dropout_8 (Dropout)          (None, 32)                0         \n",
            "_________________________________________________________________\n",
            "dense_12 (Dense)             (None, 10)                330       \n",
            "_________________________________________________________________\n",
            "activation_12 (Activation)   (None, 10)                0         \n",
            "=================================================================\n",
            "Total params: 25,450\n",
            "Trainable params: 25,450\n",
            "Non-trainable params: 0\n",
            "_________________________________________________________________\n"
          ],
          "name": "stdout"
        }
      ]
    },
    {
      "cell_type": "code",
      "metadata": {
        "id": "rUkHxhZq78Mk",
        "colab_type": "code",
        "colab": {
          "base_uri": "https://localhost:8080/",
          "height": 386
        },
        "outputId": "af3c05ad-71d8-4834-adb6-1fa1d0dea45c"
      },
      "source": [
        "# training\n",
        "model_2.fit(X_train, y_train, batch_size=128, epochs=10, verbose=1,\n",
        "          validation_data=(X_test, y_test))"
      ],
      "execution_count": 21,
      "outputs": [
        {
          "output_type": "stream",
          "text": [
            "Train on 60000 samples, validate on 10000 samples\n",
            "Epoch 1/10\n",
            "60000/60000 [==============================] - 1s 17us/step - loss: 0.1903 - accuracy: 0.9426 - val_loss: 0.1479 - val_accuracy: 0.9581\n",
            "Epoch 2/10\n",
            "60000/60000 [==============================] - 1s 17us/step - loss: 0.1865 - accuracy: 0.9447 - val_loss: 0.1442 - val_accuracy: 0.9601\n",
            "Epoch 3/10\n",
            "60000/60000 [==============================] - 1s 17us/step - loss: 0.1849 - accuracy: 0.9449 - val_loss: 0.1430 - val_accuracy: 0.9598\n",
            "Epoch 4/10\n",
            "60000/60000 [==============================] - 1s 17us/step - loss: 0.1815 - accuracy: 0.9460 - val_loss: 0.1453 - val_accuracy: 0.9599\n",
            "Epoch 5/10\n",
            "60000/60000 [==============================] - 1s 17us/step - loss: 0.1793 - accuracy: 0.9472 - val_loss: 0.1414 - val_accuracy: 0.9612\n",
            "Epoch 6/10\n",
            "60000/60000 [==============================] - 1s 17us/step - loss: 0.1742 - accuracy: 0.9484 - val_loss: 0.1416 - val_accuracy: 0.9606\n",
            "Epoch 7/10\n",
            "60000/60000 [==============================] - 1s 17us/step - loss: 0.1756 - accuracy: 0.9474 - val_loss: 0.1353 - val_accuracy: 0.9621\n",
            "Epoch 8/10\n",
            "60000/60000 [==============================] - 1s 17us/step - loss: 0.1727 - accuracy: 0.9492 - val_loss: 0.1399 - val_accuracy: 0.9616\n",
            "Epoch 9/10\n",
            "60000/60000 [==============================] - 1s 17us/step - loss: 0.1700 - accuracy: 0.9490 - val_loss: 0.1397 - val_accuracy: 0.9620\n",
            "Epoch 10/10\n",
            "60000/60000 [==============================] - 1s 17us/step - loss: 0.1670 - accuracy: 0.9505 - val_loss: 0.1377 - val_accuracy: 0.9629\n"
          ],
          "name": "stdout"
        },
        {
          "output_type": "execute_result",
          "data": {
            "text/plain": [
              "<keras.callbacks.callbacks.History at 0x7fba05411518>"
            ]
          },
          "metadata": {
            "tags": []
          },
          "execution_count": 21
        }
      ]
    },
    {
      "cell_type": "markdown",
      "metadata": {
        "id": "gAsm5B_y8EAn",
        "colab_type": "text"
      },
      "source": [
        "In this case, we can know that model 1 is better than model 2.\n"
      ]
    }
  ]
}