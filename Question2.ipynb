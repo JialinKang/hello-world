{
  "nbformat": 4,
  "nbformat_minor": 0,
  "metadata": {
    "colab": {
      "name": "Question2.ipynb",
      "provenance": [],
      "authorship_tag": "ABX9TyPr2K8wsYD6dV2MJ3/xmA73",
      "include_colab_link": true
    },
    "kernelspec": {
      "name": "python3",
      "display_name": "Python 3"
    }
  },
  "cells": [
    {
      "cell_type": "markdown",
      "metadata": {
        "id": "view-in-github",
        "colab_type": "text"
      },
      "source": [
        "<a href=\"https://colab.research.google.com/github/JialinKang/hello-world/blob/master/Question2.ipynb\" target=\"_parent\"><img src=\"https://colab.research.google.com/assets/colab-badge.svg\" alt=\"Open In Colab\"/></a>"
      ]
    },
    {
      "cell_type": "markdown",
      "metadata": {
        "id": "omv_nDJ39znI",
        "colab_type": "text"
      },
      "source": [
        "**Use Keras and Tensor Flow on colab to fit a prediction model for the fashion mnist data. Try 5 versions of the model with different numbers of hidden layers and dropout (of your choosing). Compare the test set accuracy of each of the models.**"
      ]
    },
    {
      "cell_type": "markdown",
      "metadata": {
        "id": "l0-nO3NHAd52",
        "colab_type": "text"
      },
      "source": [
        "## model 1"
      ]
    },
    {
      "cell_type": "code",
      "metadata": {
        "id": "HCLHVbuc-NYh",
        "colab_type": "code",
        "colab": {}
      },
      "source": [
        "from keras.datasets import mnist\n",
        "from keras.models import Sequential\n",
        "from keras.layers.core import Dense, Dropout, Activation\n",
        "from keras.utils import np_utils\n",
        "from keras import layers\n",
        "from keras.utils.np_utils import to_categorical"
      ],
      "execution_count": 0,
      "outputs": []
    },
    {
      "cell_type": "code",
      "metadata": {
        "id": "70CdXjVq911o",
        "colab_type": "code",
        "colab": {
          "base_uri": "https://localhost:8080/",
          "height": 298
        },
        "outputId": "591eb1ef-a5c8-4b77-ee67-e40f733c7117"
      },
      "source": [
        "from keras.datasets import fashion_mnist\n",
        "import matplotlib.pyplot as plt\n",
        "(xf_train, yf_train), (xf_test, yf_test) = fashion_mnist.load_data()\n",
        "\n",
        "plt.imshow(xf_test[0])\n",
        "plt.title(yf_train[0])"
      ],
      "execution_count": 19,
      "outputs": [
        {
          "output_type": "execute_result",
          "data": {
            "text/plain": [
              "Text(0.5, 1.0, '9')"
            ]
          },
          "metadata": {
            "tags": []
          },
          "execution_count": 19
        },
        {
          "output_type": "display_data",
          "data": {
            "image/png": "[encoded data removed]",
            "text/plain": [
              "<Figure size 432x288 with 1 Axes>"
            ]
          },
          "metadata": {
            "tags": [],
            "needs_background": "light"
          }
        }
      ]
    },
    {
      "cell_type": "code",
      "metadata": {
        "id": "33AVGpIM96j7",
        "colab_type": "code",
        "colab": {
          "base_uri": "https://localhost:8080/",
          "height": 84
        },
        "outputId": "fc86d9d1-6281-4063-d2e7-e7910f8ef26a"
      },
      "source": [
        "xf_train = xf_train.reshape(60000, 784)\n",
        "xf_test = xf_test.reshape(10000, 784)\n",
        "xf_train = xf_train.astype('float32')\n",
        "xf_test = xf_test.astype('float32')\n",
        "xf_train /= 255\n",
        "xf_test /= 255\n",
        "print('Train the matrix shape', xf_train.shape)\n",
        "print('Test the matrix shape', xf_test.shape)\n",
        "\n",
        "print(yf_train.shape)\n",
        "yf_train = to_categorical(yf_train, 10)\n",
        "yf_test = to_categorical(yf_test, 10)\n",
        "print(yf_train.shape)"
      ],
      "execution_count": 20,
      "outputs": [
        {
          "output_type": "stream",
          "text": [
            "Train the matrix shape (60000, 784)\n",
            "Test the matrix shape (10000, 784)\n",
            "(60000,)\n",
            "(60000, 10)\n"
          ],
          "name": "stdout"
        }
      ]
    },
    {
      "cell_type": "code",
      "metadata": {
        "id": "weZeadBt-ZMn",
        "colab_type": "code",
        "colab": {
          "base_uri": "https://localhost:8080/",
          "height": 521
        },
        "outputId": "8a843f3c-5067-4cc5-9dfc-0aaf894e6b76"
      },
      "source": [
        "# define the neural network\n",
        "\n",
        "def build_model():\n",
        "  model=Sequential()\n",
        "  model.add(Dense(128, input_shape=(784,)))\n",
        "  model.add(Activation('relu'))\n",
        "  model.add(Dropout(0.2))\n",
        "  model.add(Dense(64))\n",
        "  model.add(Activation('relu'))\n",
        "  model.add(Dropout(0.2))\n",
        "  model.add(Dense(32))\n",
        "  model.add(Activation('relu'))\n",
        "  model.add(Dropout(0.2))\n",
        "  model.add(Dense(10))\n",
        "  model.add(Activation('softmax'))\n",
        "  return model\n",
        "\n",
        "model_1 = build_model()\n",
        "\n",
        "model_1.compile(optimizer='rmsprop',\n",
        "       loss='categorical_crossentropy',\n",
        "       metrics=['accuracy'])\n",
        "model_1.summary()"
      ],
      "execution_count": 21,
      "outputs": [
        {
          "output_type": "stream",
          "text": [
            "Model: \"sequential_3\"\n",
            "_________________________________________________________________\n",
            "Layer (type)                 Output Shape              Param #   \n",
            "=================================================================\n",
            "dense_9 (Dense)              (None, 128)               100480    \n",
            "_________________________________________________________________\n",
            "activation_9 (Activation)    (None, 128)               0         \n",
            "_________________________________________________________________\n",
            "dropout_7 (Dropout)          (None, 128)               0         \n",
            "_________________________________________________________________\n",
            "dense_10 (Dense)             (None, 64)                8256      \n",
            "_________________________________________________________________\n",
            "activation_10 (Activation)   (None, 64)                0         \n",
            "_________________________________________________________________\n",
            "dropout_8 (Dropout)          (None, 64)                0         \n",
            "_________________________________________________________________\n",
            "dense_11 (Dense)             (None, 32)                2080      \n",
            "_________________________________________________________________\n",
            "activation_11 (Activation)   (None, 32)                0         \n",
            "_________________________________________________________________\n",
            "dropout_9 (Dropout)          (None, 32)                0         \n",
            "_________________________________________________________________\n",
            "dense_12 (Dense)             (None, 10)                330       \n",
            "_________________________________________________________________\n",
            "activation_12 (Activation)   (None, 10)                0         \n",
            "=================================================================\n",
            "Total params: 111,146\n",
            "Trainable params: 111,146\n",
            "Non-trainable params: 0\n",
            "_________________________________________________________________\n"
          ],
          "name": "stdout"
        }
      ]
    },
    {
      "cell_type": "code",
      "metadata": {
        "id": "2rsDxE3P-gGt",
        "colab_type": "code",
        "colab": {
          "base_uri": "https://localhost:8080/",
          "height": 386
        },
        "outputId": "c1139085-5e7a-49a2-8883-680ed14ebbb4"
      },
      "source": [
        "# training\n",
        "model_1.fit(xf_train, yf_train, batch_size=128, epochs=10, verbose=1,\n",
        "          validation_data=(xf_test, yf_test))"
      ],
      "execution_count": 22,
      "outputs": [
        {
          "output_type": "stream",
          "text": [
            "Train on 60000 samples, validate on 10000 samples\n",
            "Epoch 1/10\n",
            "60000/60000 [==============================] - 3s 44us/step - loss: 0.7743 - accuracy: 0.7343 - val_loss: 0.4779 - val_accuracy: 0.8280\n",
            "Epoch 2/10\n",
            "60000/60000 [==============================] - 2s 38us/step - loss: 0.4970 - accuracy: 0.8279 - val_loss: 0.4458 - val_accuracy: 0.8390\n",
            "Epoch 3/10\n",
            "60000/60000 [==============================] - 2s 39us/step - loss: 0.4448 - accuracy: 0.8446 - val_loss: 0.4493 - val_accuracy: 0.8320\n",
            "Epoch 4/10\n",
            "60000/60000 [==============================] - 2s 39us/step - loss: 0.4151 - accuracy: 0.8530 - val_loss: 0.3794 - val_accuracy: 0.8607\n",
            "Epoch 5/10\n",
            "60000/60000 [==============================] - 2s 38us/step - loss: 0.3937 - accuracy: 0.8621 - val_loss: 0.3873 - val_accuracy: 0.8612\n",
            "Epoch 6/10\n",
            "60000/60000 [==============================] - 2s 37us/step - loss: 0.3795 - accuracy: 0.8667 - val_loss: 0.3934 - val_accuracy: 0.8612\n",
            "Epoch 7/10\n",
            "60000/60000 [==============================] - 2s 38us/step - loss: 0.3699 - accuracy: 0.8711 - val_loss: 0.3664 - val_accuracy: 0.8708\n",
            "Epoch 8/10\n",
            "60000/60000 [==============================] - 2s 37us/step - loss: 0.3569 - accuracy: 0.8752 - val_loss: 0.3692 - val_accuracy: 0.8664\n",
            "Epoch 9/10\n",
            "60000/60000 [==============================] - 2s 38us/step - loss: 0.3516 - accuracy: 0.8780 - val_loss: 0.3749 - val_accuracy: 0.8688\n",
            "Epoch 10/10\n",
            "60000/60000 [==============================] - 2s 39us/step - loss: 0.3432 - accuracy: 0.8796 - val_loss: 0.3683 - val_accuracy: 0.8688\n"
          ],
          "name": "stdout"
        },
        {
          "output_type": "execute_result",
          "data": {
            "text/plain": [
              "<keras.callbacks.callbacks.History at 0x7feca5ea09b0>"
            ]
          },
          "metadata": {
            "tags": []
          },
          "execution_count": 22
        }
      ]
    },
    {
      "cell_type": "markdown",
      "metadata": {
        "id": "5a69W19XAm01",
        "colab_type": "text"
      },
      "source": [
        "## model 2"
      ]
    },
    {
      "cell_type": "code",
      "metadata": {
        "id": "goSxiCqtAoha",
        "colab_type": "code",
        "colab": {}
      },
      "source": [
        "model_f2=Sequential()\n",
        "model_f2.add(Dense(64, input_shape=(784,)))\n",
        "model_f2.add(Activation('relu'))\n",
        "model_f2.add(Dropout(0.1))\n",
        "model_f2.add(Dense(32))\n",
        "model_f2.add(Activation('relu'))\n",
        "model_f2.add(Dropout(0.1))\n",
        "model_f2.add(Dense(10))\n",
        "model_f2.add(Activation('softmax'))"
      ],
      "execution_count": 0,
      "outputs": []
    },
    {
      "cell_type": "code",
      "metadata": {
        "id": "ldzxhL-lAwvM",
        "colab_type": "code",
        "colab": {
          "base_uri": "https://localhost:8080/",
          "height": 420
        },
        "outputId": "1953e6e1-8c20-4240-d14f-d2eb0a079dbf"
      },
      "source": [
        "model_f2.compile(optimizer='rmsprop',\n",
        "       loss='categorical_crossentropy',\n",
        "       metrics=['accuracy'])\n",
        "model_f2.summary()"
      ],
      "execution_count": 24,
      "outputs": [
        {
          "output_type": "stream",
          "text": [
            "Model: \"sequential_4\"\n",
            "_________________________________________________________________\n",
            "Layer (type)                 Output Shape              Param #   \n",
            "=================================================================\n",
            "dense_13 (Dense)             (None, 64)                50240     \n",
            "_________________________________________________________________\n",
            "activation_13 (Activation)   (None, 64)                0         \n",
            "_________________________________________________________________\n",
            "dropout_10 (Dropout)         (None, 64)                0         \n",
            "_________________________________________________________________\n",
            "dense_14 (Dense)             (None, 32)                2080      \n",
            "_________________________________________________________________\n",
            "activation_14 (Activation)   (None, 32)                0         \n",
            "_________________________________________________________________\n",
            "dropout_11 (Dropout)         (None, 32)                0         \n",
            "_________________________________________________________________\n",
            "dense_15 (Dense)             (None, 10)                330       \n",
            "_________________________________________________________________\n",
            "activation_15 (Activation)   (None, 10)                0         \n",
            "=================================================================\n",
            "Total params: 52,650\n",
            "Trainable params: 52,650\n",
            "Non-trainable params: 0\n",
            "_________________________________________________________________\n"
          ],
          "name": "stdout"
        }
      ]
    },
    {
      "cell_type": "code",
      "metadata": {
        "id": "jMTTNhfRA07V",
        "colab_type": "code",
        "colab": {
          "base_uri": "https://localhost:8080/",
          "height": 386
        },
        "outputId": "d3e7deb1-4b9a-4847-c07e-13f1abd90ea9"
      },
      "source": [
        "# training\n",
        "model_f2.fit(xf_train, yf_train, batch_size=128, epochs=10, verbose=1,\n",
        "          validation_data=(xf_test, yf_test))"
      ],
      "execution_count": 26,
      "outputs": [
        {
          "output_type": "stream",
          "text": [
            "Train on 60000 samples, validate on 10000 samples\n",
            "Epoch 1/10\n",
            "60000/60000 [==============================] - 1s 25us/step - loss: 0.6825 - accuracy: 0.7603 - val_loss: 0.4638 - val_accuracy: 0.8386\n",
            "Epoch 2/10\n",
            "60000/60000 [==============================] - 1s 23us/step - loss: 0.4633 - accuracy: 0.8356 - val_loss: 0.4165 - val_accuracy: 0.8500\n",
            "Epoch 3/10\n",
            "60000/60000 [==============================] - 1s 23us/step - loss: 0.4155 - accuracy: 0.8512 - val_loss: 0.4345 - val_accuracy: 0.8431\n",
            "Epoch 4/10\n",
            "60000/60000 [==============================] - 1s 23us/step - loss: 0.3901 - accuracy: 0.8598 - val_loss: 0.4000 - val_accuracy: 0.8548\n",
            "Epoch 5/10\n",
            "60000/60000 [==============================] - 1s 23us/step - loss: 0.3687 - accuracy: 0.8680 - val_loss: 0.3939 - val_accuracy: 0.8571\n",
            "Epoch 6/10\n",
            "60000/60000 [==============================] - 1s 23us/step - loss: 0.3559 - accuracy: 0.8710 - val_loss: 0.3755 - val_accuracy: 0.8701\n",
            "Epoch 7/10\n",
            "60000/60000 [==============================] - 1s 23us/step - loss: 0.3458 - accuracy: 0.8753 - val_loss: 0.3699 - val_accuracy: 0.8673\n",
            "Epoch 8/10\n",
            "60000/60000 [==============================] - 1s 23us/step - loss: 0.3359 - accuracy: 0.8792 - val_loss: 0.3687 - val_accuracy: 0.8699\n",
            "Epoch 9/10\n",
            "60000/60000 [==============================] - 1s 23us/step - loss: 0.3271 - accuracy: 0.8823 - val_loss: 0.3634 - val_accuracy: 0.8726\n",
            "Epoch 10/10\n",
            "60000/60000 [==============================] - 1s 23us/step - loss: 0.3185 - accuracy: 0.8827 - val_loss: 0.3611 - val_accuracy: 0.8736\n"
          ],
          "name": "stdout"
        },
        {
          "output_type": "execute_result",
          "data": {
            "text/plain": [
              "<keras.callbacks.callbacks.History at 0x7feca5059d68>"
            ]
          },
          "metadata": {
            "tags": []
          },
          "execution_count": 26
        }
      ]
    },
    {
      "cell_type": "markdown",
      "metadata": {
        "id": "oCG9Uf3IBBNm",
        "colab_type": "text"
      },
      "source": [
        "## model 3"
      ]
    },
    {
      "cell_type": "code",
      "metadata": {
        "id": "knGGTM8eBDHP",
        "colab_type": "code",
        "colab": {
          "base_uri": "https://localhost:8080/",
          "height": 521
        },
        "outputId": "73f4dadf-afe3-46cd-af81-2547e4823747"
      },
      "source": [
        "model_f3=Sequential()\n",
        "model_f3.add(Dense(128, input_shape=(784,)))\n",
        "model_f3.add(Activation('relu'))\n",
        "model_f3.add(Dropout(0.1))\n",
        "model_f3.add(Dense(64))\n",
        "model_f3.add(Activation('relu'))\n",
        "model_f3.add(Dropout(0.1))\n",
        "model_f3.add(Dense(32))\n",
        "model_f3.add(Activation('relu'))\n",
        "model_f3.add(Dropout(0.1))\n",
        "model_f3.add(Dense(10))\n",
        "model_f3.add(Activation('softmax'))\n",
        "\n",
        "model_f3.compile(optimizer='rmsprop',\n",
        "       loss='categorical_crossentropy',\n",
        "       metrics=['accuracy'])\n",
        "model_f3.summary()"
      ],
      "execution_count": 27,
      "outputs": [
        {
          "output_type": "stream",
          "text": [
            "Model: \"sequential_5\"\n",
            "_________________________________________________________________\n",
            "Layer (type)                 Output Shape              Param #   \n",
            "=================================================================\n",
            "dense_16 (Dense)             (None, 128)               100480    \n",
            "_________________________________________________________________\n",
            "activation_16 (Activation)   (None, 128)               0         \n",
            "_________________________________________________________________\n",
            "dropout_12 (Dropout)         (None, 128)               0         \n",
            "_________________________________________________________________\n",
            "dense_17 (Dense)             (None, 64)                8256      \n",
            "_________________________________________________________________\n",
            "activation_17 (Activation)   (None, 64)                0         \n",
            "_________________________________________________________________\n",
            "dropout_13 (Dropout)         (None, 64)                0         \n",
            "_________________________________________________________________\n",
            "dense_18 (Dense)             (None, 32)                2080      \n",
            "_________________________________________________________________\n",
            "activation_18 (Activation)   (None, 32)                0         \n",
            "_________________________________________________________________\n",
            "dropout_14 (Dropout)         (None, 32)                0         \n",
            "_________________________________________________________________\n",
            "dense_19 (Dense)             (None, 10)                330       \n",
            "_________________________________________________________________\n",
            "activation_19 (Activation)   (None, 10)                0         \n",
            "=================================================================\n",
            "Total params: 111,146\n",
            "Trainable params: 111,146\n",
            "Non-trainable params: 0\n",
            "_________________________________________________________________\n"
          ],
          "name": "stdout"
        }
      ]
    },
    {
      "cell_type": "code",
      "metadata": {
        "id": "yFubj3t1BLrd",
        "colab_type": "code",
        "colab": {
          "base_uri": "https://localhost:8080/",
          "height": 386
        },
        "outputId": "44e18f09-6d60-4123-be6c-45b8bdd813d7"
      },
      "source": [
        "# training\n",
        "model_f3.fit(xf_train, yf_train, batch_size=128, epochs=10, verbose=1,\n",
        "          validation_data=(xf_test, yf_test))"
      ],
      "execution_count": 29,
      "outputs": [
        {
          "output_type": "stream",
          "text": [
            "Train on 60000 samples, validate on 10000 samples\n",
            "Epoch 1/10\n",
            "60000/60000 [==============================] - 2s 40us/step - loss: 0.6728 - accuracy: 0.7596 - val_loss: 0.4926 - val_accuracy: 0.8204\n",
            "Epoch 2/10\n",
            "60000/60000 [==============================] - 2s 39us/step - loss: 0.4457 - accuracy: 0.8393 - val_loss: 0.4602 - val_accuracy: 0.8315\n",
            "Epoch 3/10\n",
            "60000/60000 [==============================] - 2s 38us/step - loss: 0.4002 - accuracy: 0.8560 - val_loss: 0.4365 - val_accuracy: 0.8460\n",
            "Epoch 4/10\n",
            "60000/60000 [==============================] - 2s 38us/step - loss: 0.3722 - accuracy: 0.8664 - val_loss: 0.3921 - val_accuracy: 0.8559\n",
            "Epoch 5/10\n",
            "60000/60000 [==============================] - 2s 38us/step - loss: 0.3521 - accuracy: 0.8719 - val_loss: 0.3602 - val_accuracy: 0.8717\n",
            "Epoch 6/10\n",
            "60000/60000 [==============================] - 2s 38us/step - loss: 0.3398 - accuracy: 0.8774 - val_loss: 0.3725 - val_accuracy: 0.8621\n",
            "Epoch 7/10\n",
            "60000/60000 [==============================] - 2s 39us/step - loss: 0.3278 - accuracy: 0.8816 - val_loss: 0.3608 - val_accuracy: 0.8769\n",
            "Epoch 8/10\n",
            "60000/60000 [==============================] - 2s 38us/step - loss: 0.3175 - accuracy: 0.8855 - val_loss: 0.3463 - val_accuracy: 0.8786\n",
            "Epoch 9/10\n",
            "60000/60000 [==============================] - 2s 38us/step - loss: 0.3085 - accuracy: 0.8885 - val_loss: 0.4055 - val_accuracy: 0.8656\n",
            "Epoch 10/10\n",
            "60000/60000 [==============================] - 2s 38us/step - loss: 0.3033 - accuracy: 0.8902 - val_loss: 0.3403 - val_accuracy: 0.8856\n"
          ],
          "name": "stdout"
        },
        {
          "output_type": "execute_result",
          "data": {
            "text/plain": [
              "<keras.callbacks.callbacks.History at 0x7feca4fff3c8>"
            ]
          },
          "metadata": {
            "tags": []
          },
          "execution_count": 29
        }
      ]
    },
    {
      "cell_type": "markdown",
      "metadata": {
        "id": "FrEWcJu9BRTx",
        "colab_type": "text"
      },
      "source": [
        "## model 4"
      ]
    },
    {
      "cell_type": "code",
      "metadata": {
        "id": "RYm0LqRXBSvr",
        "colab_type": "code",
        "colab": {
          "base_uri": "https://localhost:8080/",
          "height": 622
        },
        "outputId": "a9b89673-3d44-4a80-9084-68a743c99db5"
      },
      "source": [
        "model_f4=Sequential()\n",
        "model_f4.add(Dense(256, input_shape=(784,)))\n",
        "model_f4.add(Activation('relu'))\n",
        "model_f4.add(Dropout(0.1))\n",
        "model_f4.add(Dense(128))\n",
        "model_f4.add(Activation('relu'))\n",
        "model_f4.add(Dropout(0.1))\n",
        "model_f4.add(Dense(64))\n",
        "model_f4.add(Activation('relu'))\n",
        "model_f4.add(Dropout(0.1))\n",
        "model_f4.add(Dense(32))\n",
        "model_f4.add(Activation('relu'))\n",
        "model_f4.add(Dropout(0.1))\n",
        "model_f4.add(Dense(10))\n",
        "model_f4.add(Activation('softmax'))\n",
        "\n",
        "model_f4.compile(optimizer='rmsprop',\n",
        "       loss='categorical_crossentropy',\n",
        "       metrics=['accuracy'])\n",
        "model_f4.summary()"
      ],
      "execution_count": 30,
      "outputs": [
        {
          "output_type": "stream",
          "text": [
            "Model: \"sequential_6\"\n",
            "_________________________________________________________________\n",
            "Layer (type)                 Output Shape              Param #   \n",
            "=================================================================\n",
            "dense_20 (Dense)             (None, 256)               200960    \n",
            "_________________________________________________________________\n",
            "activation_20 (Activation)   (None, 256)               0         \n",
            "_________________________________________________________________\n",
            "dropout_15 (Dropout)         (None, 256)               0         \n",
            "_________________________________________________________________\n",
            "dense_21 (Dense)             (None, 128)               32896     \n",
            "_________________________________________________________________\n",
            "activation_21 (Activation)   (None, 128)               0         \n",
            "_________________________________________________________________\n",
            "dropout_16 (Dropout)         (None, 128)               0         \n",
            "_________________________________________________________________\n",
            "dense_22 (Dense)             (None, 64)                8256      \n",
            "_________________________________________________________________\n",
            "activation_22 (Activation)   (None, 64)                0         \n",
            "_________________________________________________________________\n",
            "dropout_17 (Dropout)         (None, 64)                0         \n",
            "_________________________________________________________________\n",
            "dense_23 (Dense)             (None, 32)                2080      \n",
            "_________________________________________________________________\n",
            "activation_23 (Activation)   (None, 32)                0         \n",
            "_________________________________________________________________\n",
            "dropout_18 (Dropout)         (None, 32)                0         \n",
            "_________________________________________________________________\n",
            "dense_24 (Dense)             (None, 10)                330       \n",
            "_________________________________________________________________\n",
            "activation_24 (Activation)   (None, 10)                0         \n",
            "=================================================================\n",
            "Total params: 244,522\n",
            "Trainable params: 244,522\n",
            "Non-trainable params: 0\n",
            "_________________________________________________________________\n"
          ],
          "name": "stdout"
        }
      ]
    },
    {
      "cell_type": "code",
      "metadata": {
        "id": "9hcxaZBaBaIh",
        "colab_type": "code",
        "colab": {
          "base_uri": "https://localhost:8080/",
          "height": 386
        },
        "outputId": "c7a2a356-2edb-4738-f53a-4b6b163ba716"
      },
      "source": [
        "# training\n",
        "model_f4.fit(xf_train, yf_train, batch_size=128, epochs=10, verbose=1,\n",
        "          validation_data=(xf_test, yf_test))"
      ],
      "execution_count": 31,
      "outputs": [
        {
          "output_type": "stream",
          "text": [
            "Train on 60000 samples, validate on 10000 samples\n",
            "Epoch 1/10\n",
            "60000/60000 [==============================] - 4s 64us/step - loss: 0.6887 - accuracy: 0.7608 - val_loss: 0.4416 - val_accuracy: 0.8431\n",
            "Epoch 2/10\n",
            "60000/60000 [==============================] - 4s 62us/step - loss: 0.4431 - accuracy: 0.8436 - val_loss: 0.4579 - val_accuracy: 0.8349\n",
            "Epoch 3/10\n",
            "60000/60000 [==============================] - 4s 62us/step - loss: 0.3949 - accuracy: 0.8595 - val_loss: 0.4256 - val_accuracy: 0.8502\n",
            "Epoch 4/10\n",
            "60000/60000 [==============================] - 4s 62us/step - loss: 0.3671 - accuracy: 0.8690 - val_loss: 0.3799 - val_accuracy: 0.8697\n",
            "Epoch 5/10\n",
            "60000/60000 [==============================] - 4s 63us/step - loss: 0.3486 - accuracy: 0.8743 - val_loss: 0.4003 - val_accuracy: 0.8564\n",
            "Epoch 6/10\n",
            "60000/60000 [==============================] - 4s 62us/step - loss: 0.3324 - accuracy: 0.8818 - val_loss: 0.3524 - val_accuracy: 0.8727\n",
            "Epoch 7/10\n",
            "60000/60000 [==============================] - 4s 62us/step - loss: 0.3194 - accuracy: 0.8855 - val_loss: 0.3690 - val_accuracy: 0.8758\n",
            "Epoch 8/10\n",
            "60000/60000 [==============================] - 4s 61us/step - loss: 0.3092 - accuracy: 0.8882 - val_loss: 0.3415 - val_accuracy: 0.8813\n",
            "Epoch 9/10\n",
            "60000/60000 [==============================] - 4s 61us/step - loss: 0.3014 - accuracy: 0.8935 - val_loss: 0.3756 - val_accuracy: 0.8665\n",
            "Epoch 10/10\n",
            "60000/60000 [==============================] - 4s 62us/step - loss: 0.2924 - accuracy: 0.8945 - val_loss: 0.3425 - val_accuracy: 0.8823\n"
          ],
          "name": "stdout"
        },
        {
          "output_type": "execute_result",
          "data": {
            "text/plain": [
              "<keras.callbacks.callbacks.History at 0x7feca4d12a20>"
            ]
          },
          "metadata": {
            "tags": []
          },
          "execution_count": 31
        }
      ]
    },
    {
      "cell_type": "markdown",
      "metadata": {
        "id": "W1o2xVj-BgQj",
        "colab_type": "text"
      },
      "source": [
        "## model 5"
      ]
    },
    {
      "cell_type": "code",
      "metadata": {
        "id": "RMyiShrPBh8X",
        "colab_type": "code",
        "colab": {
          "base_uri": "https://localhost:8080/",
          "height": 722
        },
        "outputId": "c921de4d-56f2-4c4b-83d4-7e255e567b69"
      },
      "source": [
        "model_f5=Sequential()\n",
        "model_f5.add(Dense(512, input_shape=(784,)))\n",
        "model_f5.add(Activation('relu'))\n",
        "model_f5.add(Dropout(0.1))\n",
        "model_f5.add(Dense(256))\n",
        "model_f5.add(Activation('relu'))\n",
        "model_f5.add(Dropout(0.1))\n",
        "model_f5.add(Dense(128))\n",
        "model_f5.add(Activation('relu'))\n",
        "model_f5.add(Dropout(0.1))\n",
        "model_f5.add(Dense(64))\n",
        "model_f5.add(Activation('relu'))\n",
        "model_f5.add(Dropout(0.1))\n",
        "model_f5.add(Dense(32))\n",
        "model_f5.add(Activation('relu'))\n",
        "model_f5.add(Dropout(0.1))\n",
        "model_f5.add(Dense(10))\n",
        "model_f5.add(Activation('softmax'))\n",
        "\n",
        "model_f5.compile(optimizer='rmsprop',\n",
        "       loss='categorical_crossentropy',\n",
        "       metrics=['accuracy'])\n",
        "model_f5.summary()"
      ],
      "execution_count": 32,
      "outputs": [
        {
          "output_type": "stream",
          "text": [
            "Model: \"sequential_7\"\n",
            "_________________________________________________________________\n",
            "Layer (type)                 Output Shape              Param #   \n",
            "=================================================================\n",
            "dense_25 (Dense)             (None, 512)               401920    \n",
            "_________________________________________________________________\n",
            "activation_25 (Activation)   (None, 512)               0         \n",
            "_________________________________________________________________\n",
            "dropout_19 (Dropout)         (None, 512)               0         \n",
            "_________________________________________________________________\n",
            "dense_26 (Dense)             (None, 256)               131328    \n",
            "_________________________________________________________________\n",
            "activation_26 (Activation)   (None, 256)               0         \n",
            "_________________________________________________________________\n",
            "dropout_20 (Dropout)         (None, 256)               0         \n",
            "_________________________________________________________________\n",
            "dense_27 (Dense)             (None, 128)               32896     \n",
            "_________________________________________________________________\n",
            "activation_27 (Activation)   (None, 128)               0         \n",
            "_________________________________________________________________\n",
            "dropout_21 (Dropout)         (None, 128)               0         \n",
            "_________________________________________________________________\n",
            "dense_28 (Dense)             (None, 64)                8256      \n",
            "_________________________________________________________________\n",
            "activation_28 (Activation)   (None, 64)                0         \n",
            "_________________________________________________________________\n",
            "dropout_22 (Dropout)         (None, 64)                0         \n",
            "_________________________________________________________________\n",
            "dense_29 (Dense)             (None, 32)                2080      \n",
            "_________________________________________________________________\n",
            "activation_29 (Activation)   (None, 32)                0         \n",
            "_________________________________________________________________\n",
            "dropout_23 (Dropout)         (None, 32)                0         \n",
            "_________________________________________________________________\n",
            "dense_30 (Dense)             (None, 10)                330       \n",
            "_________________________________________________________________\n",
            "activation_30 (Activation)   (None, 10)                0         \n",
            "=================================================================\n",
            "Total params: 576,810\n",
            "Trainable params: 576,810\n",
            "Non-trainable params: 0\n",
            "_________________________________________________________________\n"
          ],
          "name": "stdout"
        }
      ]
    },
    {
      "cell_type": "code",
      "metadata": {
        "id": "7kjen95MBocR",
        "colab_type": "code",
        "colab": {
          "base_uri": "https://localhost:8080/",
          "height": 386
        },
        "outputId": "43abd7fe-b56a-439b-bb95-466f892ef5b1"
      },
      "source": [
        "# training\n",
        "model_f5.fit(xf_train, yf_train, batch_size=128, epochs=10, verbose=1,\n",
        "          validation_data=(xf_test, yf_test))"
      ],
      "execution_count": 34,
      "outputs": [
        {
          "output_type": "stream",
          "text": [
            "Train on 60000 samples, validate on 10000 samples\n",
            "Epoch 1/10\n",
            "60000/60000 [==============================] - 8s 127us/step - loss: 0.6993 - accuracy: 0.7541 - val_loss: 0.4505 - val_accuracy: 0.8359\n",
            "Epoch 2/10\n",
            "60000/60000 [==============================] - 7s 124us/step - loss: 0.4587 - accuracy: 0.8386 - val_loss: 0.4318 - val_accuracy: 0.8418\n",
            "Epoch 3/10\n",
            "60000/60000 [==============================] - 7s 125us/step - loss: 0.4021 - accuracy: 0.8568 - val_loss: 0.4083 - val_accuracy: 0.8589\n",
            "Epoch 4/10\n",
            "60000/60000 [==============================] - 7s 125us/step - loss: 0.3756 - accuracy: 0.8674 - val_loss: 0.3990 - val_accuracy: 0.8604\n",
            "Epoch 5/10\n",
            "60000/60000 [==============================] - 8s 125us/step - loss: 0.3568 - accuracy: 0.8748 - val_loss: 0.3769 - val_accuracy: 0.8676\n",
            "Epoch 6/10\n",
            "60000/60000 [==============================] - 8s 127us/step - loss: 0.3410 - accuracy: 0.8802 - val_loss: 0.3802 - val_accuracy: 0.8684\n",
            "Epoch 7/10\n",
            "60000/60000 [==============================] - 7s 124us/step - loss: 0.3332 - accuracy: 0.8834 - val_loss: 0.3695 - val_accuracy: 0.8701\n",
            "Epoch 8/10\n",
            "60000/60000 [==============================] - 7s 124us/step - loss: 0.3205 - accuracy: 0.8878 - val_loss: 0.3428 - val_accuracy: 0.8808\n",
            "Epoch 9/10\n",
            "60000/60000 [==============================] - 7s 124us/step - loss: 0.3132 - accuracy: 0.8899 - val_loss: 0.3788 - val_accuracy: 0.8731\n",
            "Epoch 10/10\n",
            "60000/60000 [==============================] - 7s 123us/step - loss: 0.3069 - accuracy: 0.8925 - val_loss: 0.3911 - val_accuracy: 0.8785\n"
          ],
          "name": "stdout"
        },
        {
          "output_type": "execute_result",
          "data": {
            "text/plain": [
              "<keras.callbacks.callbacks.History at 0x7feca4b466a0>"
            ]
          },
          "metadata": {
            "tags": []
          },
          "execution_count": 34
        }
      ]
    },
    {
      "cell_type": "markdown",
      "metadata": {
        "id": "j6R6kY8VBvze",
        "colab_type": "text"
      },
      "source": [
        "model_1 test set accuracy : 0.8688\n",
        "\n",
        "model_2 test set accuracy : 0.8736\n",
        "\n",
        "model_3 test set accuracy : 0.8856\n",
        "\n",
        "model_4 test set accuracy : 0.8823\n",
        "\n",
        "model_5 test set accuracy : 0.8785\n",
        "\n",
        "from the result we can know that model 3 has the highest test set accuacy value"
      ]
    }
  ]
}